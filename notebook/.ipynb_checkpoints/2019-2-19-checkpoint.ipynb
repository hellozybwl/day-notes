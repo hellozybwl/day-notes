{
 "cells": [
  {
   "cell_type": "markdown",
   "metadata": {},
   "source": [
    "## 文档下载路径：\n",
    "    https://github.com/hellozybwl/day-notes/blob/master/2019-2-19.ipynb"
   ]
  },
  {
   "cell_type": "markdown",
   "metadata": {},
   "source": [
    "\n",
    "\n",
    "## jupyter的常用操作\n",
    "\n",
    "    用 Up 和 Down 键向上和向下滚动你的单元格。\n",
    "    按 A 或 B 在活动单元上方或下方插入一个新单元。\n",
    "    M 将会将活动单元格转换为 Markdown 单元格。\n",
    "    Y 将激活的单元格设置为一个代码单元格。\n",
    "    D + D(按两次 D)将删除活动单元格。\n",
    "    Z将撤销单元格删除。 * 按住 Shift，同时按 Up 或 Down ，一次选择多个单元格。\n",
    "    选择了 multple，Shift + M 将合并你的选择\n"
   ]
  },
  {
   "cell_type": "markdown",
   "metadata": {},
   "source": [
    "## git的用法教程\n",
    "\n",
    "    http://www.bootcss.com/p/git-guide/\n"
   ]
  },
  {
   "cell_type": "markdown",
   "metadata": {},
   "source": [
    "## 数据分析库\n",
    "    import pandas as pd \n",
    "\n",
    "## 科学计算库\n",
    "    import numpy as np\n",
    "\n",
    "## 随机森林算法库\n",
    "    from sklearn.ensemble import RandomForestRegressor\n",
    "    random_state：\n",
    "        If None, the random number generator is the RandomState instance used by ’np.random‘\n",
    "        If int, random_state is the seed used by the random number generator\n",
    "    n_estimators：\n",
    "        The number of trees in the forest\n",
    "        决策树的个数，越多越好，但是性能就会越差\n",
    "    n_jobs：\n",
    "        The number of jobs to run in parallel for both `fit` and `predict`\n",
    "        `-1` means using all processors\n",
    "\n",
    "    rfr = RandomForestRegressor(random_state=0, n_estimators=2000, n_jobs=-1)\n",
    "    rfr.fit(X, y)\n",
    "\n",
    "## 线性函数库\n",
    "    from sklearn import linear_model\n",
    "\n",
    "    C : float, default: 1.0\n",
    "        Inverse of regularization strength; must be a positive float.\n",
    "        Like in support vector machines, smaller values specify stronger\n",
    "        regularization.\n",
    "    penalty : str, 'l1' or 'l2', default: 'l2'\n",
    "        Used to specify the norm used in the penalization. The 'newton-cg',\n",
    "        'sag' and 'lbfgs' solvers support only l2 penalties.\n",
    "    tol : float, default: 1e-4\n",
    "        Tolerance for stopping criteria. \n",
    "\n",
    "    clf = linear_model.LogisticRegression(C=1.0, penalty='l1', tol=1e-6)\n",
    "    clf.fit(X, y)\n",
    "\n",
    "## get_dummies \n",
    "    get_dummies 是利用pandas实现one hot encode的方式\n",
    "    下面举个例子："
   ]
  },
  {
   "cell_type": "code",
   "execution_count": 42,
   "metadata": {},
   "outputs": [
    {
     "data": {
      "text/html": [
       "<div>\n",
       "<style scoped>\n",
       "    .dataframe tbody tr th:only-of-type {\n",
       "        vertical-align: middle;\n",
       "    }\n",
       "\n",
       "    .dataframe tbody tr th {\n",
       "        vertical-align: top;\n",
       "    }\n",
       "\n",
       "    .dataframe thead th {\n",
       "        text-align: right;\n",
       "    }\n",
       "</style>\n",
       "<table border=\"1\" class=\"dataframe\">\n",
       "  <thead>\n",
       "    <tr style=\"text-align: right;\">\n",
       "      <th></th>\n",
       "      <th>port_S</th>\n",
       "      <th>port_T</th>\n",
       "    </tr>\n",
       "  </thead>\n",
       "  <tbody>\n",
       "    <tr>\n",
       "      <th>0</th>\n",
       "      <td>1</td>\n",
       "      <td>0</td>\n",
       "    </tr>\n",
       "    <tr>\n",
       "      <th>1</th>\n",
       "      <td>0</td>\n",
       "      <td>1</td>\n",
       "    </tr>\n",
       "    <tr>\n",
       "      <th>2</th>\n",
       "      <td>1</td>\n",
       "      <td>0</td>\n",
       "    </tr>\n",
       "  </tbody>\n",
       "</table>\n",
       "</div>"
      ],
      "text/plain": [
       "   port_S  port_T\n",
       "0       1       0\n",
       "1       0       1\n",
       "2       1       0"
      ]
     },
     "execution_count": 42,
     "metadata": {},
     "output_type": "execute_result"
    }
   ],
   "source": [
    "import pandas as pd\n",
    "#3位乘客分别从不同港口上船，如何把无意义的港口变为数据\n",
    "df = pd.DataFrame([  \n",
    "            ['A' , 'S'],   \n",
    "            ['B' , 'T'],   \n",
    "            ['C' , 'S']])  \n",
    "\n",
    "df.columns = ['passenger',  'port'] \n",
    "dummies = pd.get_dummies(df) \n",
    "#选取有用的数据\n",
    "port_data = dummies.filter(regex='port_.*')\n",
    "port_data"
   ]
  },
  {
   "cell_type": "markdown",
   "metadata": {},
   "source": [
    "##  DataFrame.drop 用法\n",
    "    DataFrame.drop(labels=None,axis=0, index=None, columns=None, inplace=False)\n",
    "\n",
    "    参数说明：\n",
    "    labels 就是要删除的行列的名字，用列表给定\n",
    "    axis 默认为0，指删除行，因此删除columns时要指定axis=1；\n",
    "    index 直接指定要删除的行\n",
    "    columns 直接指定要删除的列\n",
    "    inplace=False，默认该删除操作不改变原数据，而是返回一个执行删除操作后的新dataframe；\n",
    "    inplace=True，则会直接在原数据上进行删除操作，删除后无法返回"
   ]
  },
  {
   "cell_type": "code",
   "execution_count": 39,
   "metadata": {
    "scrolled": true
   },
   "outputs": [
    {
     "data": {
      "text/html": [
       "<div>\n",
       "<style scoped>\n",
       "    .dataframe tbody tr th:only-of-type {\n",
       "        vertical-align: middle;\n",
       "    }\n",
       "\n",
       "    .dataframe tbody tr th {\n",
       "        vertical-align: top;\n",
       "    }\n",
       "\n",
       "    .dataframe thead th {\n",
       "        text-align: right;\n",
       "    }\n",
       "</style>\n",
       "<table border=\"1\" class=\"dataframe\">\n",
       "  <thead>\n",
       "    <tr style=\"text-align: right;\">\n",
       "      <th></th>\n",
       "      <th>passenger_A</th>\n",
       "      <th>passenger_B</th>\n",
       "      <th>passenger_C</th>\n",
       "      <th>port_S</th>\n",
       "      <th>port_T</th>\n",
       "    </tr>\n",
       "  </thead>\n",
       "  <tbody>\n",
       "    <tr>\n",
       "      <th>0</th>\n",
       "      <td>1</td>\n",
       "      <td>0</td>\n",
       "      <td>0</td>\n",
       "      <td>1</td>\n",
       "      <td>0</td>\n",
       "    </tr>\n",
       "    <tr>\n",
       "      <th>1</th>\n",
       "      <td>0</td>\n",
       "      <td>1</td>\n",
       "      <td>0</td>\n",
       "      <td>0</td>\n",
       "      <td>1</td>\n",
       "    </tr>\n",
       "    <tr>\n",
       "      <th>2</th>\n",
       "      <td>0</td>\n",
       "      <td>0</td>\n",
       "      <td>1</td>\n",
       "      <td>1</td>\n",
       "      <td>0</td>\n",
       "    </tr>\n",
       "  </tbody>\n",
       "</table>\n",
       "</div>"
      ],
      "text/plain": [
       "   passenger_A  passenger_B  passenger_C  port_S  port_T\n",
       "0            1            0            0       1       0\n",
       "1            0            1            0       0       1\n",
       "2            0            0            1       1       0"
      ]
     },
     "execution_count": 39,
     "metadata": {},
     "output_type": "execute_result"
    }
   ],
   "source": [
    "dummies\n",
    "#dummies_add = dummies.drop(['passenger_A', 'passenger_B', 'passenger_C'], axis=1, inplace=True)\n",
    "#dummies_add\n",
    "#也可以用这种方式删除数据"
   ]
  },
  {
   "cell_type": "markdown",
   "metadata": {},
   "source": [
    "##  DataFrame.concat 用法"
   ]
  },
  {
   "cell_type": "code",
   "execution_count": 45,
   "metadata": {
    "scrolled": true
   },
   "outputs": [
    {
     "data": {
      "text/html": [
       "<div>\n",
       "<style scoped>\n",
       "    .dataframe tbody tr th:only-of-type {\n",
       "        vertical-align: middle;\n",
       "    }\n",
       "\n",
       "    .dataframe tbody tr th {\n",
       "        vertical-align: top;\n",
       "    }\n",
       "\n",
       "    .dataframe thead th {\n",
       "        text-align: right;\n",
       "    }\n",
       "</style>\n",
       "<table border=\"1\" class=\"dataframe\">\n",
       "  <thead>\n",
       "    <tr style=\"text-align: right;\">\n",
       "      <th></th>\n",
       "      <th>passenger</th>\n",
       "      <th>port</th>\n",
       "      <th>port_S</th>\n",
       "      <th>port_T</th>\n",
       "    </tr>\n",
       "  </thead>\n",
       "  <tbody>\n",
       "    <tr>\n",
       "      <th>0</th>\n",
       "      <td>A</td>\n",
       "      <td>S</td>\n",
       "      <td>1</td>\n",
       "      <td>0</td>\n",
       "    </tr>\n",
       "    <tr>\n",
       "      <th>1</th>\n",
       "      <td>B</td>\n",
       "      <td>T</td>\n",
       "      <td>0</td>\n",
       "      <td>1</td>\n",
       "    </tr>\n",
       "    <tr>\n",
       "      <th>2</th>\n",
       "      <td>C</td>\n",
       "      <td>S</td>\n",
       "      <td>1</td>\n",
       "      <td>0</td>\n",
       "    </tr>\n",
       "  </tbody>\n",
       "</table>\n",
       "</div>"
      ],
      "text/plain": [
       "  passenger port  port_S  port_T\n",
       "0         A    S       1       0\n",
       "1         B    T       0       1\n",
       "2         C    S       1       0"
      ]
     },
     "execution_count": 45,
     "metadata": {},
     "output_type": "execute_result"
    }
   ],
   "source": [
    "new_df = pd.concat([df,port_data], axis=1)\n",
    "new_df"
   ]
  },
  {
   "cell_type": "markdown",
   "metadata": {},
   "source": [
    "## 6： sklearn 数据预处理 归一化/标准化/正则化\n",
    "\n"
   ]
  },
  {
   "cell_type": "code",
   "execution_count": 48,
   "metadata": {
    "scrolled": true
   },
   "outputs": [
    {
     "data": {
      "text/plain": [
       "array([[ 0.        , -1.22474487,  1.33630621],\n",
       "       [ 1.22474487,  0.        , -0.26726124],\n",
       "       [-1.22474487,  1.22474487, -1.06904497]])"
      ]
     },
     "execution_count": 48,
     "metadata": {},
     "output_type": "execute_result"
    }
   ],
   "source": [
    "import sklearn.preprocessing as preprocessing\n",
    "import numpy as np\n",
    "X = np.array([[1.,-1.,2.],[2.,0.,0.],[0.,1.,-1.]])\n",
    "X_scaled = preprocessing.scale(X)\n",
    "X_scaled"
   ]
  },
  {
   "cell_type": "code",
   "execution_count": 50,
   "metadata": {},
   "outputs": [
    {
     "data": {
      "text/plain": [
       "array([[ 0.        , -1.22474487,  1.33630621],\n",
       "       [ 1.22474487,  0.        , -0.26726124],\n",
       "       [-1.22474487,  1.22474487, -1.06904497]])"
      ]
     },
     "execution_count": 50,
     "metadata": {},
     "output_type": "execute_result"
    }
   ],
   "source": [
    "#使用该类的好处在于可以保存训练集中的参数（均值、方差）直接使用其对象转换测试集数据\n",
    "scaler = preprocessing.StandardScaler().fit(X)\n",
    "scaler.transform(X)"
   ]
  },
  {
   "cell_type": "markdown",
   "metadata": {},
   "source": [
    "# 方差如何计算的   （标准差是用来衡量一组数据的离散程度的统计量）\n",
    "    \n",
    "    如果有数据input  :   [1,2,3,4,5]\n",
    "    通过均值计算得数据:   [-2,-1,0,1,2]\n",
    "    数据的总体均方差：     每个数的平方/数据个数\n",
    "    最后结果：            每列数据/总体均方差\n"
   ]
  },
  {
   "cell_type": "code",
   "execution_count": 59,
   "metadata": {},
   "outputs": [
    {
     "data": {
      "text/plain": [
       "array([[ 0.        , -1.22474487,  1.33630621],\n",
       "       [ 1.22474487,  0.        , -0.26726124],\n",
       "       [-1.22474487,  1.22474487, -1.06904497]])"
      ]
     },
     "execution_count": 59,
     "metadata": {},
     "output_type": "execute_result"
    }
   ],
   "source": [
    "fit_scaler = preprocessing.StandardScaler()\n",
    "fit_scaler.fit_transform(X)"
   ]
  },
  {
   "cell_type": "markdown",
   "metadata": {},
   "source": [
    "# python选取特定列——pandas的iloc和loc\n",
    "\n",
    "    df = df.loc[0:2, ['A', 'C']]  \n",
    "    df = df.iloc[0:2, [0, 2]] \n",
    "    loc是根据dataframe的具体标签选取列，而iloc是根据标签所在的位置，从0开始计数\n",
    "    第二个示例中的的0:2表示选取第0行到第二行，这里的0:2相当于[0,2）前闭后开，2是不在范围之内的"
   ]
  }
 ],
 "metadata": {
  "kernelspec": {
   "display_name": "Python 3",
   "language": "python",
   "name": "python3"
  },
  "language_info": {
   "codemirror_mode": {
    "name": "ipython",
    "version": 3
   },
   "file_extension": ".py",
   "mimetype": "text/x-python",
   "name": "python",
   "nbconvert_exporter": "python",
   "pygments_lexer": "ipython3",
   "version": "3.7.1"
  }
 },
 "nbformat": 4,
 "nbformat_minor": 2
}
